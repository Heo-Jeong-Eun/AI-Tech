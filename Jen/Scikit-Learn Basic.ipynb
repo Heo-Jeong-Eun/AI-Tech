{
 "cells": [
  {
   "attachments": {},
   "cell_type": "markdown",
   "id": "56875130",
   "metadata": {},
   "source": [
    "# chapter 2. Machine Learning Starting with Scikit-Learn "
   ]
  },
  {
   "cell_type": "markdown",
   "id": "a949b45e",
   "metadata": {},
   "source": [
    "## Scikit-Learn \n",
    "\n",
    "**사이킷런**은 파이썬 머신러닝 라이브러리 중 가장 많이 사용되는 라이브러리이다. <br>\n",
    "파이썬 기반 다른 머신러닝 패키지도 사이킷런 스타일의 API를 지향할 정도로 쉽고, 가장 파이썬스러운 API를 제공한다. <br>\n",
    "머신러닝을 위한 매우 다양한 알고리즘과 개발을 위한 편리한 프레임 워크와 API를 제공한다. "
   ]
  },
  {
   "cell_type": "code",
   "execution_count": 2,
   "id": "637cb3fe",
   "metadata": {},
   "outputs": [
    {
     "name": "stdout",
     "output_type": "stream",
     "text": [
      "1.2.1\n"
     ]
    }
   ],
   "source": [
    "import sklearn\n",
    "\n",
    "print(sklearn.__version__)"
   ]
  },
  {
   "cell_type": "markdown",
   "id": "00d614ad",
   "metadata": {},
   "source": [
    "## 붓꽃 품종 예측하기\n",
    "\n",
    "**분류(Classification)** 은 대표적인 **지도 학습(Supervised Learning)** 방법의 하나이다. <br>\n",
    "지도학습을 위한 다양한 피처와 분류 결정값인 **레이블 데이터로 모델을 학습한 뒤, 별도의 테스트 데이터 세트에서 미지의 레이블을 예측**한다. <br>\n",
    "즉 명확한 정답이 주어진 데이터를 먼저 학습한 뒤 미지의 정답을 예측하는 방식이다. <br>\n",
    "\n",
    "**sklearn.datasets** 내 모듈은 사이킷런 자체적으로 제공하는 데이터 세트를 생성하는 모듈의 모임이다. <br>\n",
    "**sklearn.tree** 내 모듈은 트리 기반 ML 알고리즘을 구현한 클래스 모임이다. <br>\n",
    "**sklearn.model_selection**은 학습 데이터와 검증 데이터, 예측 데이터로 데이터를 분석하거나 최적의 하이퍼 파라미터로 평가하기 위한 다양한 모듈의 모임이다. <br>\n",
    "**하이퍼 파라미터**란 머신러닝 알고리즘 별 최적의 학습을 위해 직접 입력하는 파라미터를 통칭하며, 하이퍼 파라미터를 통해 머신러닝 알고리즘 성능 튜닝이 가능하다. <br>\n",
    "\n",
    "**데이터 세트를 학습 데이터와 테스트 데이터로 분리**하는 데는 **train_test_split()** 함수를 사용한다. "
   ]
  },
  {
   "cell_type": "code",
   "execution_count": 3,
   "id": "ce50fb77",
   "metadata": {},
   "outputs": [],
   "source": [
    "from sklearn.datasets import load_iris\n",
    "from sklearn.tree import DecisionTreeClassifier\n",
    "from sklearn.model_selection import train_test_split"
   ]
  },
  {
   "cell_type": "code",
   "execution_count": 5,
   "id": "f8f7f692",
   "metadata": {},
   "outputs": [
    {
     "name": "stdout",
     "output_type": "stream",
     "text": [
      "iris target 값 :  [0 0 0 0 0 0 0 0 0 0 0 0 0 0 0 0 0 0 0 0 0 0 0 0 0 0 0 0 0 0 0 0 0 0 0 0 0\n",
      " 0 0 0 0 0 0 0 0 0 0 0 0 0 1 1 1 1 1 1 1 1 1 1 1 1 1 1 1 1 1 1 1 1 1 1 1 1\n",
      " 1 1 1 1 1 1 1 1 1 1 1 1 1 1 1 1 1 1 1 1 1 1 1 1 1 1 2 2 2 2 2 2 2 2 2 2 2\n",
      " 2 2 2 2 2 2 2 2 2 2 2 2 2 2 2 2 2 2 2 2 2 2 2 2 2 2 2 2 2 2 2 2 2 2 2 2 2\n",
      " 2 2]\n",
      "iris target 이름 :  ['setosa' 'versicolor' 'virginica']\n"
     ]
    },
    {
     "data": {
      "text/html": [
       "<div>\n",
       "<style scoped>\n",
       "    .dataframe tbody tr th:only-of-type {\n",
       "        vertical-align: middle;\n",
       "    }\n",
       "\n",
       "    .dataframe tbody tr th {\n",
       "        vertical-align: top;\n",
       "    }\n",
       "\n",
       "    .dataframe thead th {\n",
       "        text-align: right;\n",
       "    }\n",
       "</style>\n",
       "<table border=\"1\" class=\"dataframe\">\n",
       "  <thead>\n",
       "    <tr style=\"text-align: right;\">\n",
       "      <th></th>\n",
       "      <th>sepal length (cm)</th>\n",
       "      <th>sepal width (cm)</th>\n",
       "      <th>petal length (cm)</th>\n",
       "      <th>petal width (cm)</th>\n",
       "      <th>label</th>\n",
       "    </tr>\n",
       "  </thead>\n",
       "  <tbody>\n",
       "    <tr>\n",
       "      <th>0</th>\n",
       "      <td>5.1</td>\n",
       "      <td>3.5</td>\n",
       "      <td>1.4</td>\n",
       "      <td>0.2</td>\n",
       "      <td>0</td>\n",
       "    </tr>\n",
       "    <tr>\n",
       "      <th>1</th>\n",
       "      <td>4.9</td>\n",
       "      <td>3.0</td>\n",
       "      <td>1.4</td>\n",
       "      <td>0.2</td>\n",
       "      <td>0</td>\n",
       "    </tr>\n",
       "    <tr>\n",
       "      <th>2</th>\n",
       "      <td>4.7</td>\n",
       "      <td>3.2</td>\n",
       "      <td>1.3</td>\n",
       "      <td>0.2</td>\n",
       "      <td>0</td>\n",
       "    </tr>\n",
       "  </tbody>\n",
       "</table>\n",
       "</div>"
      ],
      "text/plain": [
       "   sepal length (cm)  sepal width (cm)  petal length (cm)  petal width (cm)  \\\n",
       "0                5.1               3.5                1.4               0.2   \n",
       "1                4.9               3.0                1.4               0.2   \n",
       "2                4.7               3.2                1.3               0.2   \n",
       "\n",
       "   label  \n",
       "0      0  \n",
       "1      0  \n",
       "2      0  "
      ]
     },
     "execution_count": 5,
     "metadata": {},
     "output_type": "execute_result"
    }
   ],
   "source": [
    "import pandas as pd\n",
    "\n",
    "# 붓꽃 데이터 세트 로드\n",
    "iris = load_iris()\n",
    "\n",
    "# iris.data는 데이터 세트에서 피처(feature)만으로 된 데이터를 numpy로 가지고 있다. \n",
    "iris_data = iris.data\n",
    "\n",
    "# iris.target은 붓꽃 데이터 세트에서 레이블 데이터를 numpy로 가지고 있다.\n",
    "iris_label = iris.target\n",
    "print('iris target 값 : ', iris_label)\n",
    "print('iris target 이름 : ', iris.target_names)\n",
    "\n",
    "# 붓꽃 데이터 세트를 자세히 보기 위해 DataFrame으로 변환한다. \n",
    "iris_df = pd.DataFrame(data = iris_data, columns = iris.feature_names)\n",
    "iris_df['label'] = iris.target\n",
    "iris_df.head(3)"
   ]
  },
  {
   "cell_type": "markdown",
   "id": "bdebc816",
   "metadata": {},
   "source": [
    "**학습용 데이터와 테스트용 데이터 분리**\n",
    "\n",
    "학습용 데이터와 테스트용 데이터는 **반드시 분리**해야 한다. <br>\n",
    "사이킷런에서 제공하는 **train_test_split()** API를 이용, 학습 데이터와 테스트 데이터를 **test_size 파라미터 입력값의 비율로 분할**할 수 있다. "
   ]
  },
  {
   "cell_type": "code",
   "execution_count": 6,
   "id": "20285315",
   "metadata": {},
   "outputs": [],
   "source": [
    "X_train, X_test, Y_train, Y_test = train_test_split(iris_data, iris_label, \n",
    "                                                   test_size = 0.2, random_state = 11)"
   ]
  },
  {
   "cell_type": "markdown",
   "id": "7a310a23",
   "metadata": {},
   "source": [
    "첫번째 파라미터인 iris_data는 피처 세트이다. <br>\n",
    "두번째 파라미터인 iris_label은 레이블 데이터 세트이다. <br>\n",
    "세번째 파라미터인 test_size는 전체 데이터 세트 중 테스트 데이터 세트의 비율이다. (0.2는 전체 20%) <br>\n",
    "마지막 파라미터인 random_state는 호출할 때마다 같은 학습, 테스트용 데이터 세트를 생성하기 위해 주어지는 난수 발생 값이다. "
   ]
  },
  {
   "cell_type": "markdown",
   "id": "89e46f35",
   "metadata": {},
   "source": [
    "위 코드까지는 학습 데이터를 확보하는 과정이다. <br>\n",
    "확보한 데이터를 기반으로 머신러닝 분류 알고리즘의 하나인 **의사 결정 트리를 이용해 학습과 예측을 수행**한다. <br>\n",
    "\n",
    "**사이킷런의 의사 결정 트리 클래스**인 **DecisionTreeClassifier**를 객체로 생성한다."
   ]
  },
  {
   "cell_type": "code",
   "execution_count": 9,
   "id": "14a01594",
   "metadata": {},
   "outputs": [
    {
     "data": {
      "text/html": [
       "<style>#sk-container-id-1 {color: black;background-color: white;}#sk-container-id-1 pre{padding: 0;}#sk-container-id-1 div.sk-toggleable {background-color: white;}#sk-container-id-1 label.sk-toggleable__label {cursor: pointer;display: block;width: 100%;margin-bottom: 0;padding: 0.3em;box-sizing: border-box;text-align: center;}#sk-container-id-1 label.sk-toggleable__label-arrow:before {content: \"▸\";float: left;margin-right: 0.25em;color: #696969;}#sk-container-id-1 label.sk-toggleable__label-arrow:hover:before {color: black;}#sk-container-id-1 div.sk-estimator:hover label.sk-toggleable__label-arrow:before {color: black;}#sk-container-id-1 div.sk-toggleable__content {max-height: 0;max-width: 0;overflow: hidden;text-align: left;background-color: #f0f8ff;}#sk-container-id-1 div.sk-toggleable__content pre {margin: 0.2em;color: black;border-radius: 0.25em;background-color: #f0f8ff;}#sk-container-id-1 input.sk-toggleable__control:checked~div.sk-toggleable__content {max-height: 200px;max-width: 100%;overflow: auto;}#sk-container-id-1 input.sk-toggleable__control:checked~label.sk-toggleable__label-arrow:before {content: \"▾\";}#sk-container-id-1 div.sk-estimator input.sk-toggleable__control:checked~label.sk-toggleable__label {background-color: #d4ebff;}#sk-container-id-1 div.sk-label input.sk-toggleable__control:checked~label.sk-toggleable__label {background-color: #d4ebff;}#sk-container-id-1 input.sk-hidden--visually {border: 0;clip: rect(1px 1px 1px 1px);clip: rect(1px, 1px, 1px, 1px);height: 1px;margin: -1px;overflow: hidden;padding: 0;position: absolute;width: 1px;}#sk-container-id-1 div.sk-estimator {font-family: monospace;background-color: #f0f8ff;border: 1px dotted black;border-radius: 0.25em;box-sizing: border-box;margin-bottom: 0.5em;}#sk-container-id-1 div.sk-estimator:hover {background-color: #d4ebff;}#sk-container-id-1 div.sk-parallel-item::after {content: \"\";width: 100%;border-bottom: 1px solid gray;flex-grow: 1;}#sk-container-id-1 div.sk-label:hover label.sk-toggleable__label {background-color: #d4ebff;}#sk-container-id-1 div.sk-serial::before {content: \"\";position: absolute;border-left: 1px solid gray;box-sizing: border-box;top: 0;bottom: 0;left: 50%;z-index: 0;}#sk-container-id-1 div.sk-serial {display: flex;flex-direction: column;align-items: center;background-color: white;padding-right: 0.2em;padding-left: 0.2em;position: relative;}#sk-container-id-1 div.sk-item {position: relative;z-index: 1;}#sk-container-id-1 div.sk-parallel {display: flex;align-items: stretch;justify-content: center;background-color: white;position: relative;}#sk-container-id-1 div.sk-item::before, #sk-container-id-1 div.sk-parallel-item::before {content: \"\";position: absolute;border-left: 1px solid gray;box-sizing: border-box;top: 0;bottom: 0;left: 50%;z-index: -1;}#sk-container-id-1 div.sk-parallel-item {display: flex;flex-direction: column;z-index: 1;position: relative;background-color: white;}#sk-container-id-1 div.sk-parallel-item:first-child::after {align-self: flex-end;width: 50%;}#sk-container-id-1 div.sk-parallel-item:last-child::after {align-self: flex-start;width: 50%;}#sk-container-id-1 div.sk-parallel-item:only-child::after {width: 0;}#sk-container-id-1 div.sk-dashed-wrapped {border: 1px dashed gray;margin: 0 0.4em 0.5em 0.4em;box-sizing: border-box;padding-bottom: 0.4em;background-color: white;}#sk-container-id-1 div.sk-label label {font-family: monospace;font-weight: bold;display: inline-block;line-height: 1.2em;}#sk-container-id-1 div.sk-label-container {text-align: center;}#sk-container-id-1 div.sk-container {/* jupyter's `normalize.less` sets `[hidden] { display: none; }` but bootstrap.min.css set `[hidden] { display: none !important; }` so we also need the `!important` here to be able to override the default hidden behavior on the sphinx rendered scikit-learn.org. See: https://github.com/scikit-learn/scikit-learn/issues/21755 */display: inline-block !important;position: relative;}#sk-container-id-1 div.sk-text-repr-fallback {display: none;}</style><div id=\"sk-container-id-1\" class=\"sk-top-container\"><div class=\"sk-text-repr-fallback\"><pre>DecisionTreeClassifier(random_state=11)</pre><b>In a Jupyter environment, please rerun this cell to show the HTML representation or trust the notebook. <br />On GitHub, the HTML representation is unable to render, please try loading this page with nbviewer.org.</b></div><div class=\"sk-container\" hidden><div class=\"sk-item\"><div class=\"sk-estimator sk-toggleable\"><input class=\"sk-toggleable__control sk-hidden--visually\" id=\"sk-estimator-id-1\" type=\"checkbox\" checked><label for=\"sk-estimator-id-1\" class=\"sk-toggleable__label sk-toggleable__label-arrow\">DecisionTreeClassifier</label><div class=\"sk-toggleable__content\"><pre>DecisionTreeClassifier(random_state=11)</pre></div></div></div></div></div>"
      ],
      "text/plain": [
       "DecisionTreeClassifier(random_state=11)"
      ]
     },
     "execution_count": 9,
     "metadata": {},
     "output_type": "execute_result"
    }
   ],
   "source": [
    "# DecisionTreeClassifier 객체 생성\n",
    "dt_clf = DecisionTreeClassifier(random_state = 11)\n",
    "\n",
    "# 학습 수행\n",
    "dt_clf.fit(X_train, Y_train)"
   ]
  },
  {
   "cell_type": "markdown",
   "id": "b1ff4cfd",
   "metadata": {},
   "source": [
    "**예측은 반드시 학습 데이터가 아닌 다른 데이터를 이용**해야 한다. <br>\n",
    "**predict()** 메서드에 테스트용 피처 데이터 세트를 입력해 호출하면 **학습된 모델 기반에서 테스트 데이터 세트에 대한 예측값을 반환**한다. "
   ]
  },
  {
   "cell_type": "code",
   "execution_count": 11,
   "id": "1bf3e9ba",
   "metadata": {},
   "outputs": [],
   "source": [
    "# 학습이 완료된 DecisionTreeClassifier 객체에서 테스트 데이터 세트로 예측 수행\n",
    "pred = dt_clf.predict(X_test)"
   ]
  },
  {
   "cell_type": "markdown",
   "id": "2efcd52d",
   "metadata": {},
   "source": [
    "**정확도**는 **예측 결과가 실제 레이블 값과 얼마나 정확하게 맞는지**를 평가하는 지표이다. <br>\n",
    "사이킷런은 정확도 측정을 위해 **accuracy_score()** 함수를 제공한다. "
   ]
  },
  {
   "cell_type": "code",
   "execution_count": 12,
   "id": "75bb65b7",
   "metadata": {},
   "outputs": [
    {
     "name": "stdout",
     "output_type": "stream",
     "text": [
      "예측 정확도 : 0.9333\n"
     ]
    }
   ],
   "source": [
    "from sklearn.metrics import accuracy_score\n",
    "print('예측 정확도 : {0:.4f}'.format(accuracy_score(Y_test, pred)))"
   ]
  },
  {
   "cell_type": "markdown",
   "id": "fec571fa",
   "metadata": {},
   "source": [
    "**붓꽃 데이터 세트로 분류를 예측한 프로세스**\n",
    "\n",
    "1. 데이터 세트 분리 : 데이터를 학습 데이터와 테스트 데이터로 분리한다. <br>\n",
    "2. 모델 학습 : 학습 데이터를 기반으로 ML 알고리즘을 적용해 모델을 학습시킨다. <br>\n",
    "3. 예측 수행 : 학습된 ML 모델을 이용해 테스트 데이터의 분류를 예측한다. <br>\n",
    "4. 평가 : 예측된 결과값과 테스트 데이터의 실제 결과값을 비교해 ML 모델 성능을 평가한다. "
   ]
  },
  {
   "cell_type": "markdown",
   "id": "58ff155c",
   "metadata": {},
   "source": [
    "## 사이킷런의 기반 프레임워크 \n",
    "\n",
    "### Estimator 이해 및 fit(), predict() 메서드\n",
    "\n",
    "사이킷런은 **ML모델 학습을 위해 fit()** 을, **학습된 모델의 예측을 위해 predict()** 메서드를 제공한다. <br>\n",
    "사이킷런에서는 **분류 알고리즘을 구현한 클래스를 Classifier**로, **회귀 알고리즘을 구현한 클래스를 Regressor**로 지칭한다. <br>\n",
    "**지도학습의 모든 알고리즘을 구현한 클래스를 통칭해 Estimator**라고 부른다. <br>\n",
    "하이퍼 파라미터 튜닝을 지원하는 클래스의 경우 Estimator를 인자로 받는다. <br>\n",
    "\n",
    "**비지도학습과 피처 추출에서 fit()** 은 지도학습의 fit()과 같이 학습을 의미하는 것이 아니라 **입력 데이터의 형태에 맞춰 데이터를 변환하기 위한 사전 구조를 맞추는 작업**이다. <br>\n",
    "**fit()으로 변환을 위한 사전 구조를 맞추면 이후 입력 데이터의 차원 변환**, **클러스터링, 피처 추출 등의 실제 작업은 transform()** 으로 수행한다. \n",
    "사이킷런은 **fit()과 transform()을 하나로 결합**한 **fit_transform()** 도 제공한다. \n"
   ]
  },
  {
   "cell_type": "markdown",
   "id": "ee8a0b5b",
   "metadata": {},
   "source": [
    "### 사이킷런의 주요 모듈\n",
    "\n",
    "|분류|모듈명|설명|\n",
    "|:------:|:---:|:---:|\n",
    "|예제 데이터|sklearn.datasets|사이킷런에 내장되어 예제로 제공하는 데이터 세트|\n",
    "|피처 처리|sklearn.feature_preprocessing|데이터 전처리에 필요한 다양한 가공 기능 제공 (문자열을 숫자형 코드 값으로 인코딩, 정규화, 스케일링 등)|\n",
    "|피처 처리|sklearn.feature_selection|알고리즘에 큰 영향을 미치는 피처를 우선순위대로 셀렉션 작업을 수행하는 다양한 기능 제공|\n",
    "|피처 처리|sklearn.feature_extraction|텍스트 데이터나 이미지 데이터의 벡터화된 피처를 추출하는데 사용한다.|\n",
    "|피처 처리 & 차원 축소|sklearn.decompostion|차원 축소와 관련한 알고리즘을 지원하는 모듈이다. <br> PCA, NMF, Truncated SVD 등을 통해 차원 축소 기능을 수행할 수 있다.|\n",
    "|데이터 분리, 검증 & 파라미터 튜닝|sklearn.model_selection|교차 검증을 위한 학습용 / 테스트용 분리, 그리드 서치로 최적 파라미터 추출 등의 API 제공|\n",
    "|평가|sklearn.metrics|분류, 회귀, 클러스터링, 페어와이즈에 대한 다양한 성능 측정 방법을 제공한다.|\n",
    "|ML 알고리즘|sklearn.ensemble|앙상블 알고리즘 제공|\n",
    "|ML 알고리즘|sklearn.linear_model|주로 선형 회귀, Ridge, Lasso 및 로지스틱 회귀 등 회귀 관련 알고리즘을 지원한다. 또한 SGD 관련 알고리즘도 제공한다.|\n",
    "|ML 알고리즘|sklearn.navie_bayes|나이브 베이즈 알고리즘 제공|\n",
    "|ML 알고리즘|sklearn.neighbors|최근접 이웃 알고리즘 제공|\n",
    "|ML 알고리즘|sklearn.svm|서포트 백터 머신 알고리즘 제공|\n",
    "|ML 알고리즘|sklearn.tree|의사 결정 트리 알고리즘 제공|\n",
    "|ML 알고리즘|sklearn.cluster|비지도 클러스터링 알고리즘 제공|\n",
    "|유틸리티|sklearn.pipline|피처 처리 등의 변환과 ML 알고리즘 학습, 예측 등을 함께 묶어서 실행할 수 있는 유틸리티 제공|"
   ]
  },
  {
   "cell_type": "markdown",
   "id": "47731ac7",
   "metadata": {},
   "source": [
    "### 내장된 예제 데이터 세트\n",
    "\n",
    "사이킷런에 내장 되어있는 데이터 세트는 **분류나 회귀를 연습하기 위한 예제용도의 데이터 세트**와 **분류나 클러스터링을 위해 표본 데이터로 생성될 수 있는 데이터 세트**로 나뉜다. <br>\n",
    "fetch 계열의 명령은 데이터의 크기가 커서 패키지에 처음부터 저장되어 있지 않고, 내려받아 홈 디렉터리 아래의 scikti_learn_data라는 서브 디렉터리에 저장한 후 추후 불러들이는 데이터이다. <br>"
   ]
  },
  {
   "cell_type": "markdown",
   "id": "00331b43",
   "metadata": {},
   "source": [
    "**분류와 클러스터링을 위한 표본 데이터 생성기** <br>\n",
    "|API명|설명|\n",
    "|:------:|:---:|\n",
    "|datasets.make_classifictions()|분류를 위한 데이터 세트를 만든다. 특히 높은 상관도, 불필요한 속성 등의 노이즈 효과를 위한 데이터를 무작위로 생성한다.|\n",
    "|datasets.make_blobs()|클러스터링을 위한 데이터 세트를 무작위로 생성해 준다. 군집 지정 갯수에 따라 여러가지 클러스터링을 위한 데이터 세트를 쉽게 만들어 준다.|\n",
    "\n",
    "<br>\n",
    "\n",
    "**분류나 회귀를 위한 연습용 예제 데이터** <br>\n",
    "\n",
    "사이킷런 내장 데이터 세트는 일반적으로 **딕셔너리 형태**로 되어있다. <br>\n",
    "키는 보통 data, target_name, feature_names, DESCR로 구성되어 있다. <br>\n",
    "\n",
    "**data**는 피처의 데이터 세트를 가리킨다. <br>\n",
    "**target**은 분류 시 레이블 값, 회귀일 때는 숫자 결과값 데이터 세트이다. <br>\n",
    "**target_names**는 개별 레이블의 이름을 나타낸다. <br>\n",
    "**feature_names**는 피처의 이름을 나타낸다. <br>\n",
    "**DESCR**은 데이터 세트에 대한 설명과 각 피처의 설명을 나타낸다. <br>\n",
    "\n",
    "피처의 데이터 값을 반환받기 위해서는 내장 데이터 세트 API를 호출할 뒤 그 키값을 지정하면 된다. "
   ]
  },
  {
   "cell_type": "code",
   "execution_count": 15,
   "id": "12d9884f",
   "metadata": {},
   "outputs": [
    {
     "name": "stdout",
     "output_type": "stream",
     "text": [
      "<class 'sklearn.utils._bunch.Bunch'>\n"
     ]
    }
   ],
   "source": [
    "from sklearn.datasets import load_iris\n",
    "\n",
    "iris_data = load_iris()\n",
    "print(type(iris_data))"
   ]
  },
  {
   "cell_type": "markdown",
   "id": "236dc5b2",
   "metadata": {},
   "source": [
    "Bunch 클래스는 파이썬 딕셔너리 자료형과 유사하다. "
   ]
  },
  {
   "cell_type": "code",
   "execution_count": 16,
   "id": "ffc98c08",
   "metadata": {},
   "outputs": [
    {
     "name": "stdout",
     "output_type": "stream",
     "text": [
      "붓꽃 데이터 세트의 키 :  dict_keys(['data', 'target', 'frame', 'target_names', 'DESCR', 'feature_names', 'filename', 'data_module'])\n"
     ]
    }
   ],
   "source": [
    "keys = iris_data.keys()\n",
    "print('붓꽃 데이터 세트의 키 : ', keys)"
   ]
  },
  {
   "cell_type": "markdown",
   "id": "5a2d2964",
   "metadata": {},
   "source": [
    "데이터 키는 피처들의 데이터 값을 가리킨다. <br>\n",
    "**데이터 값을 추출**하기 위해서는 **데이터 세트.data(데이터 세트['data'])** 를 이용한다. "
   ]
  },
  {
   "cell_type": "code",
   "execution_count": 18,
   "id": "88c04388",
   "metadata": {},
   "outputs": [
    {
     "name": "stdout",
     "output_type": "stream",
     "text": [
      "feature_names의 type :  <class 'list'>\n",
      "feature_names의 shape :  4\n",
      "['sepal length (cm)', 'sepal width (cm)', 'petal length (cm)', 'petal width (cm)']\n",
      "target_names의 type :  <class 'numpy.ndarray'>\n",
      "target_names의 shape :  3\n",
      "['setosa' 'versicolor' 'virginica']\n",
      "data의 type :  <class 'numpy.ndarray'>\n",
      "data의 shape :  2\n",
      "[[5.1 3.5 1.4 0.2]\n",
      " [4.9 3.  1.4 0.2]\n",
      " [4.7 3.2 1.3 0.2]\n",
      " [4.6 3.1 1.5 0.2]\n",
      " [5.  3.6 1.4 0.2]\n",
      " [5.4 3.9 1.7 0.4]\n",
      " [4.6 3.4 1.4 0.3]\n",
      " [5.  3.4 1.5 0.2]\n",
      " [4.4 2.9 1.4 0.2]\n",
      " [4.9 3.1 1.5 0.1]\n",
      " [5.4 3.7 1.5 0.2]\n",
      " [4.8 3.4 1.6 0.2]\n",
      " [4.8 3.  1.4 0.1]\n",
      " [4.3 3.  1.1 0.1]\n",
      " [5.8 4.  1.2 0.2]\n",
      " [5.7 4.4 1.5 0.4]\n",
      " [5.4 3.9 1.3 0.4]\n",
      " [5.1 3.5 1.4 0.3]\n",
      " [5.7 3.8 1.7 0.3]\n",
      " [5.1 3.8 1.5 0.3]\n",
      " [5.4 3.4 1.7 0.2]\n",
      " [5.1 3.7 1.5 0.4]\n",
      " [4.6 3.6 1.  0.2]\n",
      " [5.1 3.3 1.7 0.5]\n",
      " [4.8 3.4 1.9 0.2]\n",
      " [5.  3.  1.6 0.2]\n",
      " [5.  3.4 1.6 0.4]\n",
      " [5.2 3.5 1.5 0.2]\n",
      " [5.2 3.4 1.4 0.2]\n",
      " [4.7 3.2 1.6 0.2]\n",
      " [4.8 3.1 1.6 0.2]\n",
      " [5.4 3.4 1.5 0.4]\n",
      " [5.2 4.1 1.5 0.1]\n",
      " [5.5 4.2 1.4 0.2]\n",
      " [4.9 3.1 1.5 0.2]\n",
      " [5.  3.2 1.2 0.2]\n",
      " [5.5 3.5 1.3 0.2]\n",
      " [4.9 3.6 1.4 0.1]\n",
      " [4.4 3.  1.3 0.2]\n",
      " [5.1 3.4 1.5 0.2]\n",
      " [5.  3.5 1.3 0.3]\n",
      " [4.5 2.3 1.3 0.3]\n",
      " [4.4 3.2 1.3 0.2]\n",
      " [5.  3.5 1.6 0.6]\n",
      " [5.1 3.8 1.9 0.4]\n",
      " [4.8 3.  1.4 0.3]\n",
      " [5.1 3.8 1.6 0.2]\n",
      " [4.6 3.2 1.4 0.2]\n",
      " [5.3 3.7 1.5 0.2]\n",
      " [5.  3.3 1.4 0.2]\n",
      " [7.  3.2 4.7 1.4]\n",
      " [6.4 3.2 4.5 1.5]\n",
      " [6.9 3.1 4.9 1.5]\n",
      " [5.5 2.3 4.  1.3]\n",
      " [6.5 2.8 4.6 1.5]\n",
      " [5.7 2.8 4.5 1.3]\n",
      " [6.3 3.3 4.7 1.6]\n",
      " [4.9 2.4 3.3 1. ]\n",
      " [6.6 2.9 4.6 1.3]\n",
      " [5.2 2.7 3.9 1.4]\n",
      " [5.  2.  3.5 1. ]\n",
      " [5.9 3.  4.2 1.5]\n",
      " [6.  2.2 4.  1. ]\n",
      " [6.1 2.9 4.7 1.4]\n",
      " [5.6 2.9 3.6 1.3]\n",
      " [6.7 3.1 4.4 1.4]\n",
      " [5.6 3.  4.5 1.5]\n",
      " [5.8 2.7 4.1 1. ]\n",
      " [6.2 2.2 4.5 1.5]\n",
      " [5.6 2.5 3.9 1.1]\n",
      " [5.9 3.2 4.8 1.8]\n",
      " [6.1 2.8 4.  1.3]\n",
      " [6.3 2.5 4.9 1.5]\n",
      " [6.1 2.8 4.7 1.2]\n",
      " [6.4 2.9 4.3 1.3]\n",
      " [6.6 3.  4.4 1.4]\n",
      " [6.8 2.8 4.8 1.4]\n",
      " [6.7 3.  5.  1.7]\n",
      " [6.  2.9 4.5 1.5]\n",
      " [5.7 2.6 3.5 1. ]\n",
      " [5.5 2.4 3.8 1.1]\n",
      " [5.5 2.4 3.7 1. ]\n",
      " [5.8 2.7 3.9 1.2]\n",
      " [6.  2.7 5.1 1.6]\n",
      " [5.4 3.  4.5 1.5]\n",
      " [6.  3.4 4.5 1.6]\n",
      " [6.7 3.1 4.7 1.5]\n",
      " [6.3 2.3 4.4 1.3]\n",
      " [5.6 3.  4.1 1.3]\n",
      " [5.5 2.5 4.  1.3]\n",
      " [5.5 2.6 4.4 1.2]\n",
      " [6.1 3.  4.6 1.4]\n",
      " [5.8 2.6 4.  1.2]\n",
      " [5.  2.3 3.3 1. ]\n",
      " [5.6 2.7 4.2 1.3]\n",
      " [5.7 3.  4.2 1.2]\n",
      " [5.7 2.9 4.2 1.3]\n",
      " [6.2 2.9 4.3 1.3]\n",
      " [5.1 2.5 3.  1.1]\n",
      " [5.7 2.8 4.1 1.3]\n",
      " [6.3 3.3 6.  2.5]\n",
      " [5.8 2.7 5.1 1.9]\n",
      " [7.1 3.  5.9 2.1]\n",
      " [6.3 2.9 5.6 1.8]\n",
      " [6.5 3.  5.8 2.2]\n",
      " [7.6 3.  6.6 2.1]\n",
      " [4.9 2.5 4.5 1.7]\n",
      " [7.3 2.9 6.3 1.8]\n",
      " [6.7 2.5 5.8 1.8]\n",
      " [7.2 3.6 6.1 2.5]\n",
      " [6.5 3.2 5.1 2. ]\n",
      " [6.4 2.7 5.3 1.9]\n",
      " [6.8 3.  5.5 2.1]\n",
      " [5.7 2.5 5.  2. ]\n",
      " [5.8 2.8 5.1 2.4]\n",
      " [6.4 3.2 5.3 2.3]\n",
      " [6.5 3.  5.5 1.8]\n",
      " [7.7 3.8 6.7 2.2]\n",
      " [7.7 2.6 6.9 2.3]\n",
      " [6.  2.2 5.  1.5]\n",
      " [6.9 3.2 5.7 2.3]\n",
      " [5.6 2.8 4.9 2. ]\n",
      " [7.7 2.8 6.7 2. ]\n",
      " [6.3 2.7 4.9 1.8]\n",
      " [6.7 3.3 5.7 2.1]\n",
      " [7.2 3.2 6.  1.8]\n",
      " [6.2 2.8 4.8 1.8]\n",
      " [6.1 3.  4.9 1.8]\n",
      " [6.4 2.8 5.6 2.1]\n",
      " [7.2 3.  5.8 1.6]\n",
      " [7.4 2.8 6.1 1.9]\n",
      " [7.9 3.8 6.4 2. ]\n",
      " [6.4 2.8 5.6 2.2]\n",
      " [6.3 2.8 5.1 1.5]\n",
      " [6.1 2.6 5.6 1.4]\n",
      " [7.7 3.  6.1 2.3]\n",
      " [6.3 3.4 5.6 2.4]\n",
      " [6.4 3.1 5.5 1.8]\n",
      " [6.  3.  4.8 1.8]\n",
      " [6.9 3.1 5.4 2.1]\n",
      " [6.7 3.1 5.6 2.4]\n",
      " [6.9 3.1 5.1 2.3]\n",
      " [5.8 2.7 5.1 1.9]\n",
      " [6.8 3.2 5.9 2.3]\n",
      " [6.7 3.3 5.7 2.5]\n",
      " [6.7 3.  5.2 2.3]\n",
      " [6.3 2.5 5.  1.9]\n",
      " [6.5 3.  5.2 2. ]\n",
      " [6.2 3.4 5.4 2.3]\n",
      " [5.9 3.  5.1 1.8]]\n",
      "target의 type :  <class 'numpy.ndarray'>\n",
      "target의 shape :  1\n",
      "[0 0 0 0 0 0 0 0 0 0 0 0 0 0 0 0 0 0 0 0 0 0 0 0 0 0 0 0 0 0 0 0 0 0 0 0 0\n",
      " 0 0 0 0 0 0 0 0 0 0 0 0 0 1 1 1 1 1 1 1 1 1 1 1 1 1 1 1 1 1 1 1 1 1 1 1 1\n",
      " 1 1 1 1 1 1 1 1 1 1 1 1 1 1 1 1 1 1 1 1 1 1 1 1 1 1 2 2 2 2 2 2 2 2 2 2 2\n",
      " 2 2 2 2 2 2 2 2 2 2 2 2 2 2 2 2 2 2 2 2 2 2 2 2 2 2 2 2 2 2 2 2 2 2 2 2 2\n",
      " 2 2]\n"
     ]
    }
   ],
   "source": [
    "print('feature_names의 type : ', type(iris_data.feature_names))\n",
    "print('feature_names의 shape : ', len(iris_data.feature_names))\n",
    "print(iris_data.feature_names)\n",
    "\n",
    "print('target_names의 type : ', type(iris_data.target_names))\n",
    "print('target_names의 shape : ', len(iris_data.target_names))\n",
    "print(iris_data.target_names)\n",
    "\n",
    "print('data의 type : ', type(iris_data.data))\n",
    "print('data의 shape : ', len(iris_data.data.shape))\n",
    "print(iris_data['data'])\n",
    "\n",
    "print('target의 type : ', type(iris_data.target))\n",
    "print('target의 shape : ', len(iris_data.target.shape))\n",
    "print(iris_data.target)"
   ]
  }
 ],
 "metadata": {
  "kernelspec": {
   "display_name": "Python 3 (ipykernel)",
   "language": "python",
   "name": "python3"
  },
  "language_info": {
   "codemirror_mode": {
    "name": "ipython",
    "version": 3
   },
   "file_extension": ".py",
   "mimetype": "text/x-python",
   "name": "python",
   "nbconvert_exporter": "python",
   "pygments_lexer": "ipython3",
   "version": "3.9.6"
  }
 },
 "nbformat": 4,
 "nbformat_minor": 5
}

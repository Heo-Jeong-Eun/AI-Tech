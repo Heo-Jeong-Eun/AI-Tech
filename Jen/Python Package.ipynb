{
 "cells": [
  {
   "cell_type": "markdown",
   "id": "a8a8bb9c",
   "metadata": {},
   "source": [
    "# chapter 1. Python Based Machine Learning"
   ]
  },
  {
   "attachments": {},
   "cell_type": "markdown",
   "id": "cbd35e2e",
   "metadata": {},
   "source": [
    "## Python Package \n",
    "\n",
    "### 파이썬 기반 머신러닝 패키지 \n",
    "\n",
    "머신러닝 애플리케이션으로 파이썬을 개발한다면 대부분의 코드는 사이킷런의 머신러닝 알고리즘에 입력하기 위한 데이터의 추출, 가공, 변형, 원하는 차원 배열로의 변환을 포함해 머신러닝 알고리즘 처리 결과에 대한 다양한 가공 등으로 구성된다.\n",
    "\n",
    "데이터 처리 부분은 대부분 Numpy와 Pandas의 몫이다. \n",
    "\n",
    "1. **머신러닝 패키지** <br>\n",
    "    대표적인 머신러닝 패키지는 **사이킷런**이다. <br>\n",
    "    **사이킷런은 API 구성이 간결하고, 직관적**이다. <br><br>\n",
    "2. **행렬, 선형대수, 통계 패키지** <br>\n",
    "    대표적인 선형대수를 다루는 패키지는 **Numpy**이다. <br>\n",
    "    Numpy와 더불어 **Scipy**는 자연과학과 통계를 위한 다양한 패키지를 제공한다. <br><br>    \n",
    "3. **데이터 핸들링** <br>\n",
    "    **Pandas**는 파이썬 세계의 대표적인 **데이터 처리 패키지**이다. <br>\n",
    "    Pandas는 **2차원 데이터 처리**에 특화되어 있다. <br>\n",
    "    Matplotlib을 호출해 쉽게 시각화 기능을 지원할 수 있다. <br><br>    \n",
    "4. **시각화** <br>\n",
    "    대표적인 시각화 패키지는 **Matplotlib**이다. <br>\n",
    "    Matplotlib은 세분화 되어있어 API로 익히기 번거럽고, 시각화를 위한 코드가 길어지기 때문에 효율이 떨어지고 불편함이 늘어날 수 있다. <br>\n",
    "    이를 보완하기 위한 시각화 패키지가 **Seaborn**이다. <br>\n",
    "    Seaborn은 Matplotlib을 기반으로 만들었지만 Pandas와의 쉬운 연동, 더 함축적인 API, 분석을 위한 다양한 유형의 그래프, 차트 제공 등으로 파이썬 기반의 데이터 분석가, 과학자에게 인기를 얻고 있다.\n",
    "\n",
    "**Jupyter Notebook** == **대화형 툴** <br>\n",
    "전체 프로그램에서 특정 코드 영역별로 개별 수행을 지원한다."
   ]
  }
 ],
 "metadata": {
  "kernelspec": {
   "display_name": "Python 3 (ipykernel)",
   "language": "python",
   "name": "python3"
  },
  "language_info": {
   "codemirror_mode": {
    "name": "ipython",
    "version": 3
   },
   "file_extension": ".py",
   "mimetype": "text/x-python",
   "name": "python",
   "nbconvert_exporter": "python",
   "pygments_lexer": "ipython3",
   "version": "3.9.13"
  }
 },
 "nbformat": 4,
 "nbformat_minor": 5
}

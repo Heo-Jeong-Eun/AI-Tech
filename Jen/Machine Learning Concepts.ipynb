{
 "cells": [
  {
   "cell_type": "markdown",
   "id": "d15a3687",
   "metadata": {},
   "source": [
    "# chapter 1. Python Based Machine Learning"
   ]
  },
  {
   "cell_type": "markdown",
   "id": "0234dcba",
   "metadata": {},
   "source": [
    "## Machine Learning Concepts \n",
    "\n",
    "### 머신러닝의 분류\n",
    "\n",
    "머신러닝의 개념은 다양하게 표현할 수 있으나, 일반적으로는 애플리케이션을 **수정하지 않고**도 **데이터 기반으로 패턴을 학습하고 결과를 예측하는 알고리즘 기법**으로 통칭한다. <br>\n",
    "머신러닝은 **데이터를 기반**으로 **통계적인 신뢰도를 강화**하고 **예측 오류를 최소화**하기 위한 **다양한 수학적 기법**을 적용해 데이터 내 **패턴을 스스로 인지**하고 **신뢰도 있는 예측 결과를 도출**한다.<br>\n",
    "데이터 분석 영역은 재빠르게 **머신러닝 기반의 예측 분석**으로 재편되고 있다.\n",
    "\n",
    "1. **지도 학습** / Supervised Learning <br>\n",
    "    **분류** / Classification <br>\n",
    "    **회귀** / Regression <br>\n",
    "    **추천 시스템** <br>\n",
    "    **시각, 음성 감지, 인지** <br>\n",
    "    **텍스트 분석, NLP** <br><br>  \n",
    "2. **비지도 학습** / Un-Supervised Learning <br>\n",
    "    클러스터링 <br>\n",
    "    차원 축소 <br>\n",
    "    강화학습 <br><br>\n",
    "3. **강화 학습** / Reinforcement Learning"
   ]
  },
  {
   "cell_type": "markdown",
   "id": "d62a0633",
   "metadata": {},
   "source": [
    "### 데이터 \n",
    "\n",
    "머신러닝의 가장 큰 단점은 **데이터에 매우 의존적**이라는 것이다. <br>\n",
    "머신러닝 모델을 개선하기 위해서는 많은 노력이 필요하다. <br>\n",
    "최적의 머신러닝 알고리즘과 모델 파라미터를 구축하는 능력도 중요하지만 데이터를 이해하고 효율적으로 가공, 처리, 추출해 최적의 데이터를 기반으로 알고리즘을 구동할 수 있도록 준비하는 능력이 중요하다."
   ]
  },
  {
   "cell_type": "markdown",
   "id": "3b8eea5e",
   "metadata": {},
   "source": [
    "### 파이썬과 R 머신러닝 비교 \n",
    "\n",
    "R에 비해 **파이썬 사용량이 높은 이유** <br>\n",
    "    1. 쉽고 뛰어난 **개발 생산성** <br>\n",
    "    2. 오픈 소스 계열의 전폭적인 지원을 받고 있으며 놀라울 정도록 **많은 라이브러리**로 인해 개발 시 **높은 생산성**을 보장한다. <br>\n",
    "    3. 인터프리터 언어의 특성상 속도는 느리지만 대신 **뛰어난 확장성, 유연성, 호환성**으로 인해 서버, 네트워크, 시스템, IoT, 데스크톱까지 다양한 영역에서 사용된다. <br>\n",
    "    4. 엔터프라이즈 아키텍처로 확장 및 마이크로서비스 기반의 실시간 연계 등 다양한 기업 환경으로의 확산이 가능하다."
   ]
  }
 ],
 "metadata": {
  "kernelspec": {
   "display_name": "Python 3 (ipykernel)",
   "language": "python",
   "name": "python3"
  },
  "language_info": {
   "codemirror_mode": {
    "name": "ipython",
    "version": 3
   },
   "file_extension": ".py",
   "mimetype": "text/x-python",
   "name": "python",
   "nbconvert_exporter": "python",
   "pygments_lexer": "ipython3",
   "version": "3.9.13"
  }
 },
 "nbformat": 4,
 "nbformat_minor": 5
}

{
 "cells": [
  {
   "cell_type": "markdown",
   "id": "8c784bfa",
   "metadata": {},
   "source": [
    "# chapter 1. Python Based Machine Learning"
   ]
  },
  {
   "cell_type": "markdown",
   "id": "39cd2f69",
   "metadata": {},
   "source": [
    "## 3. Numpy\n",
    "\n",
    "머신러닝의 주요 알고리즘은 선형대수와 통계에 기반한다. \n",
    "**Numerical Python**을 의미하는 Numpy는 파이썬에서 선형대수 기반의 프로그램을 쉽게 만들 수 있도록 지원하는 대표적인 패키지이다. \n",
    "\n",
    "루프를 사용하지 않고 **대량 데이터의 배열 연산을 가능**하게 하고, **빠른 배열 연산 속도**가 특징이다.\n",
    "\n",
    "**Numpy는 C/C++과 같은 저수준 언어 기반의 호환 API를 제공한다.**\n",
    "파이썬 언어 자체가 가지는 수행 성능의 제약이 있으므로 **수행 성능이 중요한 부분은 C/C++ 기반의 코드로 작성하고 이를 Numpy에서 호출하는 방식으로 통합**할 수 있다. \n",
    "\n",
    "Numpy는 배열 기반의 연산은 물론이고 다양한 데이터 핸들링 기능을 제공한다. "
   ]
  },
  {
   "cell_type": "markdown",
   "id": "3e2569c4",
   "metadata": {},
   "source": [
    "### **Numpy Module Import**"
   ]
  },
  {
   "cell_type": "code",
   "execution_count": 2,
   "id": "52ca4f1e",
   "metadata": {},
   "outputs": [],
   "source": [
    "import numpy as np"
   ]
  },
  {
   "cell_type": "markdown",
   "id": "24c9f52c",
   "metadata": {},
   "source": [
    "Numpy 기반 데이터 타입은 **ndarray**이다. \n",
    "ndarray를 이용해 Numpy에서 다차원 배열(Mulit-Dimen-sion)을 쉽게 생성하고 다양한 연산 수행이 가능하다. "
   ]
  },
  {
   "cell_type": "markdown",
   "id": "9cd93392",
   "metadata": {},
   "source": [
    "**Numpy array() 함수는 파이썬의 리스트와 같은 다양한 인자를 입력받아 ndarray로 변환**하는 기능을 수행한다. \n",
    "생성된 ndarray 배열의 **shape 변수**는 **ndarray의 크기, 행과 열의 수를 튜플의 형태**로 가지고 있으며 **ndarray 배열의 차원**까지 알 수 있다. "
   ]
  },
  {
   "cell_type": "code",
   "execution_count": 6,
   "id": "ac7c1c9d",
   "metadata": {},
   "outputs": [
    {
     "name": "stdout",
     "output_type": "stream",
     "text": [
      "array1 type :  <class 'numpy.ndarray'>\n",
      "array1 array 형태 :  (3,)\n",
      "\n",
      "array2 type :  <class 'numpy.ndarray'>\n",
      "array2 array 형태 :  (2, 3)\n",
      "\n",
      "array3 type :  <class 'numpy.ndarray'>\n",
      "array3 array 형태 :  (1, 3)\n"
     ]
    }
   ],
   "source": [
    "array1 = np.array([1, 2, 3])\n",
    "print('array1 type : ', type(array1))\n",
    "print('array1 array 형태 : ', array1.shape) \n",
    "print()\n",
    "\n",
    "array2 = np.array([[1, 2, 3],\n",
    "                  [2, 3, 4]])\n",
    "print('array2 type : ', type(array2))\n",
    "print('array2 array 형태 : ', array2.shape)\n",
    "print()\n",
    "\n",
    "array3 = np.array([[1, 2, 3]])\n",
    "print('array3 type : ', type(array3))\n",
    "print('array3 array 형태 : ', array3.shape)"
   ]
  },
  {
   "cell_type": "markdown",
   "id": "fcb9ada8",
   "metadata": {},
   "source": [
    "ndarray로 변환을 원하는 객체를 인자로 입력하면 ndarray를 반환한다. <br>\n",
    "**ndarray.shape은 ndarray의 차원과 크기를 튜플 형태로 나눠준다.**\n",
    "\n",
    "array3의 shape은 (1, 3)이다. \n",
    "1개의 row와 3개의 col으로 구성된 2차원 데이터를 의미한다. "
   ]
  },
  {
   "cell_type": "markdown",
   "id": "c6eb34bb",
   "metadata": {},
   "source": [
    "### ndim \n",
    "\n",
    "분명히 **데이터 값으로는 서로 동일하나 차원이 달라서 오류가 발생하는 경우가 빈번**하기 때문에 차수의 차원을 변환하는 방법을 알아야한다. \n",
    "\n",
    "각 array의 차원을 **ndarray.ndmin**을 이용해 확인할 수 있다. "
   ]
  },
  {
   "cell_type": "code",
   "execution_count": 9,
   "id": "83258202",
   "metadata": {},
   "outputs": [
    {
     "name": "stdout",
     "output_type": "stream",
     "text": [
      "array1 : 1차원, array2 : 2차원, array3 :  2차원\n"
     ]
    }
   ],
   "source": [
    "print('array1 : {:0}차원, array2 : {:1}차원, array3 : {:2}차원'.format(array1.ndim, array2.ndim, array3.ndim))"
   ]
  },
  {
   "cell_type": "markdown",
   "id": "6ac22d89",
   "metadata": {},
   "source": [
    "### ndarray 데이터 타입 \n",
    "\n",
    "ndarray 내의 데이터 값은 number 값, string 값, bool 값 등이 모두 가능하다.\n",
    "이보다 더 큰 숫자 값이나 정밀도를 위해 complex 타입도 제공한다. \n",
    "\n",
    "**ndarray내의 데이터 타입은 그 연산의 특성상 같은 데이터 타입만 가능**하다. <br>\n",
    "ndarray내의 데이터 타입은 **dtype** 속성으로 확인할 수 있다."
   ]
  },
  {
   "cell_type": "code",
   "execution_count": 10,
   "id": "771ca6c0",
   "metadata": {},
   "outputs": [
    {
     "name": "stdout",
     "output_type": "stream",
     "text": [
      "<class 'list'>\n",
      "<class 'numpy.ndarray'>\n",
      "[1 2 3] int64\n"
     ]
    }
   ],
   "source": [
    "list1 = [1, 2, 3]\n",
    "print(type(list1))\n",
    "\n",
    "array1 = np.array(list1)\n",
    "print(type(array1))\n",
    "print(array1, array1.dtype)"
   ]
  },
  {
   "cell_type": "markdown",
   "id": "462008f6",
   "metadata": {},
   "source": [
    "만약 다른 데이터 유형이 섞여 있는 리스트를 ndarray로 변경하면 **데이터 크기가 더 큰 데이터 타입으로 형 변환을 일괄 적용**한다. "
   ]
  },
  {
   "cell_type": "code",
   "execution_count": 12,
   "id": "6d3712fe",
   "metadata": {},
   "outputs": [
    {
     "name": "stdout",
     "output_type": "stream",
     "text": [
      "['1' '2' 'test'] <U21\n",
      "[1. 2. 3.] float64\n"
     ]
    }
   ],
   "source": [
    "list2 = [1, 2, 'test']\n",
    "array2 = np.array(list2)\n",
    "print(array2, array2.dtype)\n",
    "\n",
    "list3 = [1, 2, 3.0]\n",
    "array3 = np.array(list3)\n",
    "print(array3, array3.dtype)"
   ]
  },
  {
   "cell_type": "markdown",
   "id": "2057ad7c",
   "metadata": {},
   "source": [
    "int형 값과 문자열이 섞여 있는 list2를 ndarray로 변환한 array2는 숫자형 값 1, 2가 모두 **문자열 값인 '1', '2'로 변환**된다. "
   ]
  },
  {
   "cell_type": "markdown",
   "id": "9b86a0f7",
   "metadata": {},
   "source": [
    "ndarray 내 데이터 값의 타입 변경도 astype() 메서드를 이용해 할 수 있다. \n",
    "astype()에 인자로 원하는 타입을 문자열로 지정하면 된다. \n",
    "보통 메모리를 더 절약해야 할 때 이용한다. "
   ]
  },
  {
   "cell_type": "code",
   "execution_count": 13,
   "id": "c3114e91",
   "metadata": {},
   "outputs": [
    {
     "name": "stdout",
     "output_type": "stream",
     "text": [
      "[1. 2. 3.] float64\n",
      "[1 2 3] int32\n",
      "[1 2 3] int32\n"
     ]
    }
   ],
   "source": [
    "array_int = np.array([1, 2, 3])\n",
    "array_float = array_int.astype('float64')\n",
    "print(array_float, array_float.dtype)\n",
    "\n",
    "array_int1 = array_float.astype('int32')\n",
    "print(array_int1, array_int1.dtype)\n",
    "\n",
    "array_float1 = np.array([1.1, 2.1, 3.1])\n",
    "array_int2 = array_float1.astype('int32')\n",
    "print(array_int2, array_int2.dtype)"
   ]
  },
  {
   "cell_type": "markdown",
   "id": "fad0cffa",
   "metadata": {},
   "source": [
    "### ndarray를 편리하게 생성하기 - arange, zeros, ones\n",
    "\n",
    "특정 크기와 차원을 가진 ndarray를 연속값이나 0 또는 1로 초기화해 쉽게 생성해야 할 필요가 있는 경우가 있을 수 있다. <br>\n",
    "arange, zeros, ones은 테스트용으로 데이터를 만들거나 대규모의 데이터를 일괄적으로 초기화해야 할 경우 사용된다. "
   ]
  },
  {
   "cell_type": "markdown",
   "id": "58489249",
   "metadata": {},
   "source": [
    "arange()는 파이썬 표준 함수인 **range()와 유사**한 기능을 한다. <br>\n",
    "**array를 range()로 표현하는 것**으로 **0부터 함수 인자 값 -1까지의 값을 순차적으로 ndarray의 데이터 값으로 변환**한다. "
   ]
  },
  {
   "cell_type": "code",
   "execution_count": 14,
   "id": "85f1430b",
   "metadata": {},
   "outputs": [
    {
     "name": "stdout",
     "output_type": "stream",
     "text": [
      "[0 1 2 3 4 5 6 7 8 9]\n",
      "int64 (10,)\n"
     ]
    }
   ],
   "source": [
    "sequence_array = np.arange(10)\n",
    "print(sequence_array)\n",
    "print(sequence_array.dtype, sequence_array.shape)"
   ]
  },
  {
   "cell_type": "markdown",
   "id": "e414a1b2",
   "metadata": {},
   "source": [
    "default 함수의 인자는 stop이며, 0부터 stop 값인 10에서 -1을 더한 9까지의 연속 숫자 값으로 구성된 1차원 ndarray를 만든다. <br>\n",
    "range와 유사하게 start 값도 부여해 0이 아닌 다른 값부터 시작한 연속 값을 부여할 수 있다."
   ]
  },
  {
   "cell_type": "markdown",
   "id": "24981afd",
   "metadata": {},
   "source": [
    "**zeros()는 함수 인자로 튜플 형태의 shape 값을 입력하면 모든 값을 0으로 채운 해당 shape을 가진 ndarray를 반환**한다. <br>\n",
    "\n",
    "**유사하게 ones()는 함수 인자로 튜플 형태의 shape 값을 입력하면 모든 값을 1로 채운 해당 shape을 가진 ndarray를 반환**한다. <br>\n",
    "함수 인자로 dtype을 정해주지 않으면 default로 float64 형의 데이터로 ndarray를 채운다. "
   ]
  },
  {
   "cell_type": "code",
   "execution_count": 16,
   "id": "b720743e",
   "metadata": {},
   "outputs": [
    {
     "name": "stdout",
     "output_type": "stream",
     "text": [
      "[[0 0]\n",
      " [0 0]\n",
      " [0 0]]\n",
      "int32 (3, 2)\n",
      "[[1. 1.]\n",
      " [1. 1.]\n",
      " [1. 1.]]\n",
      "float64 (3, 2)\n"
     ]
    }
   ],
   "source": [
    "zero_array = np.zeros((3, 2), dtype = 'int32')\n",
    "print(zero_array)\n",
    "print(zero_array.dtype, zero_array.shape)\n",
    "\n",
    "one_array = np.ones((3, 2))\n",
    "print(one_array)\n",
    "print(one_array.dtype, one_array.shape)"
   ]
  },
  {
   "cell_type": "markdown",
   "id": "a24f5c91",
   "metadata": {},
   "source": [
    "### ndarray의 차원과 크기를 변경하는 reshape()\n",
    "\n",
    "**reshape() 메서드는 ndarray를 특정 차원 및 크기로 변환한다.** <br>\n",
    "변환을 원하는 크기를 함수 인자로 부여하면 된다. "
   ]
  },
  {
   "cell_type": "code",
   "execution_count": 20,
   "id": "d844c6c3",
   "metadata": {},
   "outputs": [
    {
     "name": "stdout",
     "output_type": "stream",
     "text": [
      "array1 : \n",
      " [0 1 2 3 4 5 6 7 8 9]\n",
      "array2 : \n",
      " [[0 1 2 3 4]\n",
      " [5 6 7 8 9]]\n",
      "array3 : \n",
      " [[0 1]\n",
      " [2 3]\n",
      " [4 5]\n",
      " [6 7]\n",
      " [8 9]]\n"
     ]
    }
   ],
   "source": [
    "array1 = np.arange(10)\n",
    "print('array1 : \\n', array1)\n",
    "\n",
    "array2 = array1.reshape(2, 5)\n",
    "print('array2 : \\n', array2)\n",
    "\n",
    "array3 = array1.reshape(5, 2)\n",
    "print('array3 : \\n', array3)"
   ]
  },
  {
   "cell_type": "markdown",
   "id": "ffb9f600",
   "metadata": {},
   "source": [
    "reshape()을 실전에서 더욱 효율적으로 사용하는 경우는 **인자로 -1을 적용**하는 경우이다. <br>\n",
    "-1을 인자로 사용하면 **원래 ndarray와 호환되는 새로운 shape으로 변환**한다. "
   ]
  },
  {
   "cell_type": "code",
   "execution_count": 23,
   "id": "45fd283e",
   "metadata": {},
   "outputs": [
    {
     "name": "stdout",
     "output_type": "stream",
     "text": [
      "[0 1 2 3 4 5 6 7 8 9]\n",
      "array2 shape :  (2, 5)\n",
      "array3 shape :  (5, 2)\n"
     ]
    }
   ],
   "source": [
    "array1 = np.arange(10)\n",
    "print(array1)\n",
    "\n",
    "array2 = array1.reshape(-1, 5)\n",
    "print('array2 shape : ', array2.shape)\n",
    "\n",
    "array3 = array1.reshape(5, -1)\n",
    "print('array3 shape : ',array3.shape)"
   ]
  },
  {
   "cell_type": "markdown",
   "id": "21b4b940",
   "metadata": {},
   "source": [
    "array1.reshape(-1, 5)는 array1과 호환될 수 있는 2차원 ndarray로 변환하되, 고정된 5개의 col에 맞는 row를 자동으로 새롭게 생성해 변환하라는 의미이다. <br>\n",
    "array1.reshape(5, -1)은 10개의 1차원 데이터와 호환될 수 있는 고정된 5개의 row에 맞는 col은 2이므로 5X2 차원의 ndarray로 변환하라는 의미이다. \n",
    "\n",
    "**-1 인자는 reshape(-1, 1)과 같은 형태로 자주 사용된다.**\n",
    "원본 ndarray가 어떤 형태라도 2차원이고, 여러 개의 row를 가지되 반드시 1개의 col을 가진 ndarray로 변환됨을 보장한다. "
   ]
  },
  {
   "cell_type": "markdown",
   "id": "912f7fab",
   "metadata": {},
   "source": [
    "**ndarray는 tolist() 메서드를 통해 리스트 자료형으로 변환할 수 있다.**"
   ]
  },
  {
   "cell_type": "code",
   "execution_count": 24,
   "id": "d1b79a56",
   "metadata": {},
   "outputs": [
    {
     "name": "stdout",
     "output_type": "stream",
     "text": [
      "array3d :  [[[0, 1], [2, 3]], [[4, 5], [6, 7]]]\n",
      "array5 : \n",
      " [[0], [1], [2], [3], [4], [5], [6], [7]]\n",
      "array5 shape :  (8, 1)\n",
      "array6 :  [[0], [1], [2], [3], [4], [5], [6], [7]]\n",
      "array6 shape :  (8, 1)\n"
     ]
    }
   ],
   "source": [
    "array1 = np.arange(8)\n",
    "array3d = array1.reshape((2, 2, 2))\n",
    "print('array3d : ', array3d.tolist())\n",
    "\n",
    "# 3차원 ndarray를 2차원 ndarray로 변환\n",
    "array5  = array3d.reshape(-1, 1)\n",
    "print('array5 : \\n', array5.tolist())\n",
    "print('array5 shape : ', array5.shape)\n",
    "\n",
    "# 1차원 ndarray를 2차원 ndarray로 변환\n",
    "array6 = array1.reshape(-1, 1)\n",
    "print('array6 : ', array6.tolist())\n",
    "print('array6 shape : ', array6.shape)"
   ]
  },
  {
   "cell_type": "markdown",
   "id": "965811cc",
   "metadata": {},
   "source": [
    "### Numpy의 ndarray 데이터 세트 선택하기 - Indexing\n",
    "\n",
    "1. **특정한 데이터만 추출** : **원하는 위치의 index 값을 지정**하면 해당 위치의 데이터가 반환된다. \n",
    "2. **slicing** : slicing은 **연속된 index 상의 ndarray를 추출**하는 방식이다. \n",
    "3. **Fancy Indexing** : **일정한 indexing 집합을 리스트 또는 ndarray 형태로 지정**해 해당 위치에 있는 **데이터의 ndarray를 반환**한다. \n",
    "4. **Boolean Indexing** : 특**정 조건에 해당하는지 여부인 True, False 값 indexing 집합을 기반**으로 **True에 해당하는 index 위치에 있는 데이터의 ndarray를 반환**한다. "
   ]
  },
  {
   "cell_type": "code",
   "execution_count": 28,
   "id": "66751f52",
   "metadata": {},
   "outputs": [
    {
     "name": "stdout",
     "output_type": "stream",
     "text": [
      "[1 2 3 4 5 6 7 8 9]\n",
      "value :  3\n",
      "<class 'numpy.int64'>\n"
     ]
    }
   ],
   "source": [
    "# 1부터 9까지 1차원 ndarray 생성\n",
    "array1 = np.arange(start = 1, stop = 10)\n",
    "print(array1)\n",
    "\n",
    "# index는 0부터 시작하므로 array1[2]는 3번째 index 위치의 데이터 값을 의미한다. \n",
    "value = array1[2]\n",
    "print('value : ', value)\n",
    "print(type(value))"
   ]
  },
  {
   "cell_type": "code",
   "execution_count": 27,
   "id": "4ebc7d92",
   "metadata": {},
   "outputs": [
    {
     "name": "stdout",
     "output_type": "stream",
     "text": [
      "맨 뒤의 값 :  9 맨 뒤에서 두 번째 값 :  8\n"
     ]
    }
   ],
   "source": [
    "print('맨 뒤의 값 : ', array1[-1], '맨 뒤에서 두 번째 값 : ', array1[-2])"
   ]
  },
  {
   "cell_type": "code",
   "execution_count": 29,
   "id": "ab193f18",
   "metadata": {},
   "outputs": [
    {
     "name": "stdout",
     "output_type": "stream",
     "text": [
      "[9 2 3 4 5 6 7 8 0]\n"
     ]
    }
   ],
   "source": [
    "# 단일 index를 이용한 ndarray 내의 데이터 값 수정\n",
    "array1[0] = 9\n",
    "array1[8] = 0\n",
    "print(array1)"
   ]
  },
  {
   "cell_type": "markdown",
   "id": "d380f68b",
   "metadata": {},
   "source": [
    "단일 값 추출 시 **2차원**의 경우 **,로 분리된 row와 col 위치 index를 통해 접근**한다. "
   ]
  },
  {
   "cell_type": "code",
   "execution_count": 32,
   "id": "bde0bc03",
   "metadata": {},
   "outputs": [
    {
     "name": "stdout",
     "output_type": "stream",
     "text": [
      "[[1 2 3]\n",
      " [4 5 6]\n",
      " [7 8 9]]\n",
      "row = 0, col = 0일 때 index가 가리키는 값 :  1\n",
      "row = 0, col = 1일 때 index가 가리키는 값 :  2\n",
      "row = 1, col = 0일 때 index가 가리키는 값 :  4\n",
      "row = 2, col = 2일 때 index가 가리키는 값 :  9\n"
     ]
    }
   ],
   "source": [
    "array1d = np.arange(start = 1, stop = 10)\n",
    "array2d = array1d.reshape(3, 3)\n",
    "print(array2d)\n",
    "\n",
    "print('row = 0, col = 0일 때 index가 가리키는 값 : ', array2d[0, 0])\n",
    "print('row = 0, col = 1일 때 index가 가리키는 값 : ', array2d[0, 1])\n",
    "print('row = 1, col = 0일 때 index가 가리키는 값 : ', array2d[1, 0])\n",
    "print('row = 2, col = 2일 때 index가 가리키는 값 : ', array2d[2, 2])"
   ]
  },
  {
   "cell_type": "markdown",
   "id": "b1b3ab05",
   "metadata": {},
   "source": [
    "ndarray에서 row와 col은 axis = 0과 1로 표현한다. <br>\n",
    "**axis = 0은 row 방향 축을 의미하고, axis = 1은 col 방향 축을 의미한다.** <br>\n",
    "\n",
    "3차원의 경우 axis = 2까지 3개의 축을 가진다.  <br>\n",
    "축 기반 연산에서 **axis가 생략되면 axis = 0**을 나타낸다. "
   ]
  },
  {
   "cell_type": "markdown",
   "id": "167c84c8",
   "metadata": {},
   "source": [
    "**slicing**\n",
    "\n",
    "**: 기호를 이용**해 연속한 데이터를 slicing해서 추출할 수 있다. \n",
    "**slicing, Fancy Indexing, Boolean Indexing으로 추출된 데이터**는 모두 **ndarray 타입**이다. "
   ]
  },
  {
   "cell_type": "code",
   "execution_count": 33,
   "id": "0711d0d9",
   "metadata": {},
   "outputs": [
    {
     "name": "stdout",
     "output_type": "stream",
     "text": [
      "[1 2 3]\n",
      "<class 'numpy.ndarray'>\n"
     ]
    }
   ],
   "source": [
    "array1 = np.arange(start = 1, stop = 10)\n",
    "array3 = array1[0:3]\n",
    "print(array3)\n",
    "print(type(array3))"
   ]
  },
  {
   "cell_type": "code",
   "execution_count": 36,
   "id": "0af0ed74",
   "metadata": {},
   "outputs": [
    {
     "name": "stdout",
     "output_type": "stream",
     "text": [
      "[1 2 3]\n",
      "[4 5 6 7 8 9]\n",
      "[1 2 3 4 5 6 7 8 9]\n"
     ]
    }
   ],
   "source": [
    "array1 = np.arange(start = 1, stop = 10)\n",
    "array4 = array1[:3]\n",
    "print(array4)\n",
    "\n",
    "array5 = array1[3:]\n",
    "print(array5)\n",
    "\n",
    "array6 = array1[:]\n",
    "print(array6)"
   ]
  },
  {
   "cell_type": "code",
   "execution_count": 37,
   "id": "335a8edc",
   "metadata": {},
   "outputs": [
    {
     "name": "stdout",
     "output_type": "stream",
     "text": [
      "[[1 2 3]\n",
      " [4 5 6]\n",
      " [7 8 9]]\n",
      "array2d[0:2, 0:2] \n",
      " [[1 2]\n",
      " [4 5]]\n",
      "array2d[1:3, 0:3] \n",
      " [[4 5 6]\n",
      " [7 8 9]]\n",
      "array2d[1:3, :] \n",
      " [[4 5 6]\n",
      " [7 8 9]]\n",
      "array2d[:, :] \n",
      " [[1 2 3]\n",
      " [4 5 6]\n",
      " [7 8 9]]\n",
      "array2d[:2, 1:] \n",
      " [[2 3]\n",
      " [5 6]]\n",
      "array2d[:2, 0] \n",
      " [1 4]\n"
     ]
    }
   ],
   "source": [
    "array1d = np.arange(start = 1, stop = 10)\n",
    "array2d = array1d.reshape(3, 3)\n",
    "print(array2d)\n",
    "\n",
    "print('array2d[0:2, 0:2] \\n', array2d[0:2, 0:2])\n",
    "print('array2d[1:3, 0:3] \\n', array2d[1:3, 0:3])\n",
    "print('array2d[1:3, :] \\n', array2d[1:3, :])\n",
    "print('array2d[:, :] \\n', array2d[:, :])\n",
    "print('array2d[:2, 1:] \\n', array2d[:2, 1:])\n",
    "print('array2d[:2, 0] \\n', array2d[:2, 0])"
   ]
  },
  {
   "cell_type": "code",
   "execution_count": 38,
   "id": "09d8c0ae",
   "metadata": {},
   "outputs": [
    {
     "name": "stdout",
     "output_type": "stream",
     "text": [
      "[1 2 3]\n",
      "[4 5 6]\n",
      "(3,) (3,)\n"
     ]
    }
   ],
   "source": [
    "print(array2d[0])\n",
    "print(array2d[1])\n",
    "print(array2d[0].shape, array2d[1].shape)"
   ]
  },
  {
   "cell_type": "markdown",
   "id": "91118a96",
   "metadata": {},
   "source": [
    "**Fancy Indexing**\n",
    "\n",
    "Fancy Indexing은 리스트나 ndarray로 **index 집합을 지정**하면 **해당 위치의 index에 해당하는 ndarray를 반환**하는 indexing 방식이다. "
   ]
  },
  {
   "cell_type": "code",
   "execution_count": 39,
   "id": "fa8de93e",
   "metadata": {},
   "outputs": [
    {
     "name": "stdout",
     "output_type": "stream",
     "text": [
      "[3, 6]\n",
      "[[1, 2], [4, 5]]\n",
      "[[1, 2, 3], [4, 5, 6]]\n"
     ]
    }
   ],
   "source": [
    "array1d = np.arange(start = 1, stop = 10)\n",
    "array2d = array1d.reshape(3, 3)\n",
    "\n",
    "array3 = array2d[[0, 1], 2]\n",
    "print(array3.tolist())\n",
    "\n",
    "array4 = array2d[[0, 1], 0:2]\n",
    "print(array4.tolist())\n",
    "\n",
    "array5 = array2d[[0, 1]]\n",
    "print(array5.tolist())"
   ]
  },
  {
   "cell_type": "markdown",
   "id": "6584b03e",
   "metadata": {},
   "source": [
    "**Boolean Indexing**\n",
    "\n",
    "Boolean Indexing은 **조건 필터링과 검색을 동시**에 할 수 있기 때문에 자주 사용된다. <br>\n",
    "Boolean Indexing은 ndarray를 지정하는 [] 내 조건문을 그대로 기재하면 된다. "
   ]
  },
  {
   "cell_type": "code",
   "execution_count": 40,
   "id": "e733a628",
   "metadata": {},
   "outputs": [
    {
     "name": "stdout",
     "output_type": "stream",
     "text": [
      "[6 7 8 9]\n"
     ]
    }
   ],
   "source": [
    "array1d = np.arange(start = 1, stop = 10)\n",
    "\n",
    "# []안에 array1d > 5 Boolean Indexing을 적용\n",
    "array3 = array1d[array1d > 5]\n",
    "print(array3)"
   ]
  },
  {
   "cell_type": "code",
   "execution_count": 41,
   "id": "077ae602",
   "metadata": {},
   "outputs": [
    {
     "data": {
      "text/plain": [
       "array([False, False, False, False, False,  True,  True,  True,  True])"
      ]
     },
     "execution_count": 41,
     "metadata": {},
     "output_type": "execute_result"
    }
   ],
   "source": [
    "array1d > 5"
   ]
  },
  {
   "cell_type": "markdown",
   "id": "94dab6a8",
   "metadata": {},
   "source": [
    "조건으로 반환된 ndarray 객체를 indexing을 지정하는 []내에 입력하면 False 값은 무시하고 True 값이 있는 위치 index 값으로 자동 변환해 할당하는 index 위치의 데이터만 반환하게 된다. \n",
    "\n",
    "array1d[]내에 index로 입력하면 동일한 데이터 세트가 반환된다. \n",
    "직접 index 집합을 만들어 대입한 것과 동일하다. "
   ]
  },
  {
   "cell_type": "code",
   "execution_count": 43,
   "id": "141e9574",
   "metadata": {},
   "outputs": [
    {
     "name": "stdout",
     "output_type": "stream",
     "text": [
      "[6 7 8 9]\n",
      "[6 7 8 9]\n"
     ]
    }
   ],
   "source": [
    "boolean_indexs = np.array([False, False, False, False, False,  True,  True,  True,  True])\n",
    "array3 = array1d[boolean_indexs]\n",
    "print(array3)\n",
    "\n",
    "indexs =np.array([5, 6, 7, 8])\n",
    "array4 = array1d[indexs]\n",
    "print(array4)"
   ]
  },
  {
   "cell_type": "markdown",
   "id": "3ede673d",
   "metadata": {},
   "source": [
    "### 행렬의 정렬 - sort()와 argsort()\n",
    "\n",
    "행렬을 정렬하는 대표적인 방법으로는 np.sort()와 ndarray.sort(), 정렬된 행렬의 index를 반환하는 argsort()가 있다. <br>\n",
    "\n",
    "**행렬 정렬**\n",
    "**np.sort()의 경우 원본 행렬은 그대로 유지**한 채 원본 행렬의 **정렬된 행렬만 반환**한다.\n",
    "**ndarray.sort()는 원본 행렬 자체를 정렬한 형태로 변환**하고 반환 값은 None이다. "
   ]
  },
  {
   "cell_type": "code",
   "execution_count": 47,
   "id": "78a20950",
   "metadata": {},
   "outputs": [
    {
     "name": "stdout",
     "output_type": "stream",
     "text": [
      "[3 1 9 5]\n",
      "[1 3 5 9]\n",
      "[3 1 9 5]\n",
      "None\n",
      "[1 3 5 9]\n"
     ]
    }
   ],
   "source": [
    "org_array = np.array([3, 1, 9, 5])\n",
    "print(org_array)\n",
    "\n",
    "# np.sort 정렬\n",
    "sort_array1 = np.sort(org_array)\n",
    "print(sort_array1)\n",
    "print(org_array)\n",
    "\n",
    "# ndarray.sort 정렬\n",
    "sort_array2 = org_array.sort()\n",
    "print(sort_array2)\n",
    "print(org_array)"
   ]
  },
  {
   "cell_type": "markdown",
   "id": "2226ef1c",
   "metadata": {},
   "source": [
    "원본 행렬 [3, 1, 9 5]에 대해서 np.sort()는 원본 행렬을 변경하지 않고 정렬된 형태로 반환했으며, ndarray.sort()는 원본 행렬 자체를 정렬한 값으로 변환함을 알 수 있다. <br>\n",
    "np.sort()나 ndarray.sort() 모두 기본적으로 오름차순으로 행렬 내 원소를 정렬한다. "
   ]
  },
  {
   "cell_type": "code",
   "execution_count": 49,
   "id": "982745bd",
   "metadata": {},
   "outputs": [
    {
     "name": "stdout",
     "output_type": "stream",
     "text": [
      "[9 5 3 1]\n"
     ]
    }
   ],
   "source": [
    "# 내림차순 정렬\n",
    "sort_array1_desc = np.sort(org_array)[::-1]\n",
    "print(sort_array1_desc)"
   ]
  },
  {
   "cell_type": "markdown",
   "id": "1b4d34b1",
   "metadata": {},
   "source": [
    "**행렬이 2차원 이상일 경우 axis 축 값 설정**을 통해 **row, col 방향으로 정렬**이 가능하다.  "
   ]
  },
  {
   "cell_type": "code",
   "execution_count": 55,
   "id": "4b791eef",
   "metadata": {},
   "outputs": [
    {
     "name": "stdout",
     "output_type": "stream",
     "text": [
      "row 방향으로 정렬 : \n",
      " [[ 7  1]\n",
      " [ 8 12]]\n",
      "col 방향으로 정렬 : \n",
      " [[ 8 12]\n",
      " [ 1  7]]\n"
     ]
    }
   ],
   "source": [
    "array2d = np.array([[8, 12], \n",
    "                    [7, 1]])\n",
    "sort_array2d_axis0 = np.sort(array2d, axis = 0) \n",
    "print('row 방향으로 정렬 : \\n', sort_array2d_axis0)\n",
    "      \n",
    "sort_array2d_axis1 = np.sort(array2d, axis = 1) \n",
    "print('col 방향으로 정렬 : \\n', sort_array2d_axis1)"
   ]
  },
  {
   "cell_type": "markdown",
   "id": "2e41631d",
   "metadata": {},
   "source": [
    "**원본 행렬이 정렬되었을 때 기존 원본 행렬의 원소에 대한 index를 필요**로 할 때 **np.argsort()를 사용**한다. "
   ]
  },
  {
   "cell_type": "code",
   "execution_count": 51,
   "id": "f9e93f78",
   "metadata": {},
   "outputs": [
    {
     "name": "stdout",
     "output_type": "stream",
     "text": [
      "<class 'numpy.ndarray'>\n",
      "[1 0 3 2]\n"
     ]
    }
   ],
   "source": [
    "org_array = np.array([3, 1, 9, 5])\n",
    "sort_indices = np.argsort(org_array)\n",
    "print(type(sort_indices))\n",
    "print(sort_indices)"
   ]
  },
  {
   "cell_type": "markdown",
   "id": "54f49469",
   "metadata": {},
   "source": [
    "오름차순이 아닌 **내림차순으로 정렬** 시 원본 행렬의 index를 구하는 것도 **np.argsort()[::-1]을 적용**하면 된다. "
   ]
  },
  {
   "cell_type": "code",
   "execution_count": 53,
   "id": "6977c3f6",
   "metadata": {},
   "outputs": [
    {
     "name": "stdout",
     "output_type": "stream",
     "text": [
      "[2 3 0 1]\n"
     ]
    }
   ],
   "source": [
    "org_array = np.array([3, 1, 9, 5])\n",
    "sort_indices_desc = np.argsort(org_array)[::-1]\n",
    "print(sort_indices_desc)"
   ]
  },
  {
   "cell_type": "markdown",
   "id": "b695344f",
   "metadata": {},
   "source": [
    "argsort()는 Numpy에서 활용도가 높다. \n",
    "**np.argsort()를 이용해 반환된 index를 원본 행렬에 Fancy Index에 적용해 추출**할 수 있고, Numpy 데이터 추출에 많이 사용되는 방법이다. "
   ]
  },
  {
   "cell_type": "code",
   "execution_count": 54,
   "id": "8f6e1d42",
   "metadata": {},
   "outputs": [
    {
     "name": "stdout",
     "output_type": "stream",
     "text": [
      "성적 오름차순 정렬 시 score_array의 index :  [0 2 4 1 3]\n",
      "성적 오름차순 정렬 시 name_array의 이름 :  ['John' 'Sarah' 'Samuel' 'Mike' 'Kate']\n"
     ]
    }
   ],
   "source": [
    "import numpy as np\n",
    "\n",
    "name_array = np.array(['John', 'Mike', 'Sarah', 'Kate', 'Samuel'])\n",
    "score_array = np.array([78, 95, 84, 98, 88])\n",
    "\n",
    "sort_indices_asc = np.argsort(score_array)\n",
    "print('성적 오름차순 정렬 시 score_array의 index : ', sort_indices_asc)\n",
    "print('성적 오름차순 정렬 시 name_array의 이름 : ', name_array[sort_indices_asc])"
   ]
  },
  {
   "cell_type": "markdown",
   "id": "d623434d",
   "metadata": {},
   "source": [
    "### 선형대수 연산 - 행렬 내적과 전치 행렬 구하기\n",
    "\n",
    "행렬 내적은 행렬 곱이며, **두 행렬 A와 B의 내적은 np.dot()을 이용해 계산**한다. "
   ]
  },
  {
   "cell_type": "code",
   "execution_count": 56,
   "id": "52ff53a1",
   "metadata": {},
   "outputs": [
    {
     "name": "stdout",
     "output_type": "stream",
     "text": [
      "[[ 58  64]\n",
      " [139 154]]\n"
     ]
    }
   ],
   "source": [
    "A = ([[1, 2, 3],\n",
    "     [4, 5, 6]])\n",
    "B = ([[7, 8],\n",
    "     [9, 10],\n",
    "     [11, 12]])\n",
    "\n",
    "dot_product = np.dot(A, B)\n",
    "print(dot_product)"
   ]
  },
  {
   "cell_type": "markdown",
   "id": "007895be",
   "metadata": {},
   "source": [
    "**전치 행렬**은 원본 행렬에서 행과 열의 위치를 교환한 원소로 구성한 행렬을 말한다. <br>\n",
    "**Numpy의 transpose()를 이용**해 계산한다. "
   ]
  },
  {
   "cell_type": "code",
   "execution_count": 57,
   "id": "2397244b",
   "metadata": {},
   "outputs": [
    {
     "name": "stdout",
     "output_type": "stream",
     "text": [
      "[[1 3]\n",
      " [2 4]]\n"
     ]
    }
   ],
   "source": [
    "A = np.array([[1, 2],\n",
    "             [3, 4]])\n",
    "\n",
    "transpose_mat = np.transpose(A)\n",
    "print(transpose_mat)"
   ]
  }
 ],
 "metadata": {
  "kernelspec": {
   "display_name": "Python 3 (ipykernel)",
   "language": "python",
   "name": "python3"
  },
  "language_info": {
   "codemirror_mode": {
    "name": "ipython",
    "version": 3
   },
   "file_extension": ".py",
   "mimetype": "text/x-python",
   "name": "python",
   "nbconvert_exporter": "python",
   "pygments_lexer": "ipython3",
   "version": "3.9.6"
  }
 },
 "nbformat": 4,
 "nbformat_minor": 5
}
